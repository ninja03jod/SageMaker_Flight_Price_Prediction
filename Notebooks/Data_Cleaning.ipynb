{
 "cells": [
  {
   "cell_type": "markdown",
   "id": "3907be36",
   "metadata": {},
   "source": [
    "## 1. Importing Libraries"
   ]
  },
  {
   "cell_type": "code",
   "execution_count": 126,
   "id": "1aba3b20",
   "metadata": {},
   "outputs": [],
   "source": [
    "import os\n",
    "import numpy as np\n",
    "import pandas as pd\n",
    "from sklearn.model_selection import train_test_split\n",
    "import warnings\n",
    "warnings.filterwarnings(\"ignore\")"
   ]
  },
  {
   "cell_type": "markdown",
   "id": "5838512d",
   "metadata": {},
   "source": [
    "## 2.Reading the data"
   ]
  },
  {
   "cell_type": "code",
   "execution_count": 127,
   "id": "ef32aaae",
   "metadata": {},
   "outputs": [],
   "source": [
    "Project_Dir = r'C:\\Users\\admin\\OneDrive\\Desktop\\Flights_SageMaker_Project'\n",
    "\n",
    "Data_Dir = 'Data'"
   ]
  },
  {
   "cell_type": "code",
   "execution_count": 128,
   "id": "bffddce2",
   "metadata": {},
   "outputs": [
    {
     "data": {
      "text/plain": [
       "'C:\\\\Users\\\\admin\\\\OneDrive\\\\Desktop\\\\Flights_SageMaker_Project\\\\Data\\\\Data_Train.csv'"
      ]
     },
     "execution_count": 128,
     "metadata": {},
     "output_type": "execute_result"
    }
   ],
   "source": [
    "os.path.join(Project_Dir, Data_Dir, 'Data_Train.csv')"
   ]
  },
  {
   "cell_type": "code",
   "execution_count": 129,
   "id": "b35b1737",
   "metadata": {},
   "outputs": [],
   "source": [
    "def get_data(name):\n",
    "    file_name = f\"{name}.csv\"\n",
    "    file_path = os.path.join(Project_Dir,Data_Dir,file_name)\n",
    "    return pd.read_csv(file_path)"
   ]
  },
  {
   "cell_type": "code",
   "execution_count": 130,
   "id": "47a5affb",
   "metadata": {},
   "outputs": [
    {
     "data": {
      "text/html": [
       "<div>\n",
       "<style scoped>\n",
       "    .dataframe tbody tr th:only-of-type {\n",
       "        vertical-align: middle;\n",
       "    }\n",
       "\n",
       "    .dataframe tbody tr th {\n",
       "        vertical-align: top;\n",
       "    }\n",
       "\n",
       "    .dataframe thead th {\n",
       "        text-align: right;\n",
       "    }\n",
       "</style>\n",
       "<table border=\"1\" class=\"dataframe\">\n",
       "  <thead>\n",
       "    <tr style=\"text-align: right;\">\n",
       "      <th></th>\n",
       "      <th>Airline</th>\n",
       "      <th>Date_of_Journey</th>\n",
       "      <th>Source</th>\n",
       "      <th>Destination</th>\n",
       "      <th>Route</th>\n",
       "      <th>Dep_Time</th>\n",
       "      <th>Arrival_Time</th>\n",
       "      <th>Duration</th>\n",
       "      <th>Total_Stops</th>\n",
       "      <th>Additional_Info</th>\n",
       "      <th>Price</th>\n",
       "    </tr>\n",
       "  </thead>\n",
       "  <tbody>\n",
       "    <tr>\n",
       "      <th>0</th>\n",
       "      <td>IndiGo</td>\n",
       "      <td>24-03-2019</td>\n",
       "      <td>Banglore</td>\n",
       "      <td>New Delhi</td>\n",
       "      <td>BLR ? DEL</td>\n",
       "      <td>22:20</td>\n",
       "      <td>22-03-2024 01:10</td>\n",
       "      <td>2h 50m</td>\n",
       "      <td>non-stop</td>\n",
       "      <td>No info</td>\n",
       "      <td>3897</td>\n",
       "    </tr>\n",
       "    <tr>\n",
       "      <th>1</th>\n",
       "      <td>Air India</td>\n",
       "      <td>01-05-2019</td>\n",
       "      <td>Kolkata</td>\n",
       "      <td>Banglore</td>\n",
       "      <td>CCU ? IXR ? BBI ? BLR</td>\n",
       "      <td>05:50</td>\n",
       "      <td>13:15</td>\n",
       "      <td>7h 25m</td>\n",
       "      <td>2 stops</td>\n",
       "      <td>No info</td>\n",
       "      <td>7662</td>\n",
       "    </tr>\n",
       "    <tr>\n",
       "      <th>2</th>\n",
       "      <td>Jet Airways</td>\n",
       "      <td>09-06-2019</td>\n",
       "      <td>Delhi</td>\n",
       "      <td>Cochin</td>\n",
       "      <td>DEL ? LKO ? BOM ? COK</td>\n",
       "      <td>09:25</td>\n",
       "      <td>10-06-2024 04:25</td>\n",
       "      <td>19h</td>\n",
       "      <td>2 stops</td>\n",
       "      <td>No info</td>\n",
       "      <td>13882</td>\n",
       "    </tr>\n",
       "    <tr>\n",
       "      <th>3</th>\n",
       "      <td>IndiGo</td>\n",
       "      <td>12-05-2019</td>\n",
       "      <td>Kolkata</td>\n",
       "      <td>Banglore</td>\n",
       "      <td>CCU ? NAG ? BLR</td>\n",
       "      <td>18:05</td>\n",
       "      <td>23:30</td>\n",
       "      <td>5h 25m</td>\n",
       "      <td>1 stop</td>\n",
       "      <td>No info</td>\n",
       "      <td>6218</td>\n",
       "    </tr>\n",
       "    <tr>\n",
       "      <th>4</th>\n",
       "      <td>IndiGo</td>\n",
       "      <td>01-03-2019</td>\n",
       "      <td>Banglore</td>\n",
       "      <td>New Delhi</td>\n",
       "      <td>BLR ? NAG ? DEL</td>\n",
       "      <td>16:50</td>\n",
       "      <td>21:35</td>\n",
       "      <td>4h 45m</td>\n",
       "      <td>1 stop</td>\n",
       "      <td>No info</td>\n",
       "      <td>13302</td>\n",
       "    </tr>\n",
       "    <tr>\n",
       "      <th>...</th>\n",
       "      <td>...</td>\n",
       "      <td>...</td>\n",
       "      <td>...</td>\n",
       "      <td>...</td>\n",
       "      <td>...</td>\n",
       "      <td>...</td>\n",
       "      <td>...</td>\n",
       "      <td>...</td>\n",
       "      <td>...</td>\n",
       "      <td>...</td>\n",
       "      <td>...</td>\n",
       "    </tr>\n",
       "    <tr>\n",
       "      <th>10678</th>\n",
       "      <td>Air Asia</td>\n",
       "      <td>09-04-2019</td>\n",
       "      <td>Kolkata</td>\n",
       "      <td>Banglore</td>\n",
       "      <td>CCU ? BLR</td>\n",
       "      <td>19:55</td>\n",
       "      <td>22:25</td>\n",
       "      <td>2h 30m</td>\n",
       "      <td>non-stop</td>\n",
       "      <td>No info</td>\n",
       "      <td>4107</td>\n",
       "    </tr>\n",
       "    <tr>\n",
       "      <th>10679</th>\n",
       "      <td>Air India</td>\n",
       "      <td>27-04-2019</td>\n",
       "      <td>Kolkata</td>\n",
       "      <td>Banglore</td>\n",
       "      <td>CCU ? BLR</td>\n",
       "      <td>20:45</td>\n",
       "      <td>23:20</td>\n",
       "      <td>2h 35m</td>\n",
       "      <td>non-stop</td>\n",
       "      <td>No info</td>\n",
       "      <td>4145</td>\n",
       "    </tr>\n",
       "    <tr>\n",
       "      <th>10680</th>\n",
       "      <td>Jet Airways</td>\n",
       "      <td>27-04-2019</td>\n",
       "      <td>Banglore</td>\n",
       "      <td>Delhi</td>\n",
       "      <td>BLR ? DEL</td>\n",
       "      <td>08:20</td>\n",
       "      <td>11:20</td>\n",
       "      <td>3h</td>\n",
       "      <td>non-stop</td>\n",
       "      <td>No info</td>\n",
       "      <td>7229</td>\n",
       "    </tr>\n",
       "    <tr>\n",
       "      <th>10681</th>\n",
       "      <td>Vistara</td>\n",
       "      <td>01-03-2019</td>\n",
       "      <td>Banglore</td>\n",
       "      <td>New Delhi</td>\n",
       "      <td>BLR ? DEL</td>\n",
       "      <td>11:30</td>\n",
       "      <td>14:10</td>\n",
       "      <td>2h 40m</td>\n",
       "      <td>non-stop</td>\n",
       "      <td>No info</td>\n",
       "      <td>12648</td>\n",
       "    </tr>\n",
       "    <tr>\n",
       "      <th>10682</th>\n",
       "      <td>Air India</td>\n",
       "      <td>09-05-2019</td>\n",
       "      <td>Delhi</td>\n",
       "      <td>Cochin</td>\n",
       "      <td>DEL ? GOI ? BOM ? COK</td>\n",
       "      <td>10:55</td>\n",
       "      <td>19:15</td>\n",
       "      <td>8h 20m</td>\n",
       "      <td>2 stops</td>\n",
       "      <td>No info</td>\n",
       "      <td>11753</td>\n",
       "    </tr>\n",
       "  </tbody>\n",
       "</table>\n",
       "<p>10683 rows × 11 columns</p>\n",
       "</div>"
      ],
      "text/plain": [
       "           Airline Date_of_Journey    Source Destination  \\\n",
       "0           IndiGo      24-03-2019  Banglore   New Delhi   \n",
       "1        Air India      01-05-2019   Kolkata    Banglore   \n",
       "2      Jet Airways      09-06-2019     Delhi      Cochin   \n",
       "3           IndiGo      12-05-2019   Kolkata    Banglore   \n",
       "4           IndiGo      01-03-2019  Banglore   New Delhi   \n",
       "...            ...             ...       ...         ...   \n",
       "10678     Air Asia      09-04-2019   Kolkata    Banglore   \n",
       "10679    Air India      27-04-2019   Kolkata    Banglore   \n",
       "10680  Jet Airways      27-04-2019  Banglore       Delhi   \n",
       "10681      Vistara      01-03-2019  Banglore   New Delhi   \n",
       "10682    Air India      09-05-2019     Delhi      Cochin   \n",
       "\n",
       "                       Route Dep_Time      Arrival_Time Duration Total_Stops  \\\n",
       "0                  BLR ? DEL    22:20  22-03-2024 01:10   2h 50m    non-stop   \n",
       "1      CCU ? IXR ? BBI ? BLR    05:50             13:15   7h 25m     2 stops   \n",
       "2      DEL ? LKO ? BOM ? COK    09:25  10-06-2024 04:25      19h     2 stops   \n",
       "3            CCU ? NAG ? BLR    18:05             23:30   5h 25m      1 stop   \n",
       "4            BLR ? NAG ? DEL    16:50             21:35   4h 45m      1 stop   \n",
       "...                      ...      ...               ...      ...         ...   \n",
       "10678              CCU ? BLR    19:55             22:25   2h 30m    non-stop   \n",
       "10679              CCU ? BLR    20:45             23:20   2h 35m    non-stop   \n",
       "10680              BLR ? DEL    08:20             11:20       3h    non-stop   \n",
       "10681              BLR ? DEL    11:30             14:10   2h 40m    non-stop   \n",
       "10682  DEL ? GOI ? BOM ? COK    10:55             19:15   8h 20m     2 stops   \n",
       "\n",
       "      Additional_Info  Price  \n",
       "0             No info   3897  \n",
       "1             No info   7662  \n",
       "2             No info  13882  \n",
       "3             No info   6218  \n",
       "4             No info  13302  \n",
       "...               ...    ...  \n",
       "10678         No info   4107  \n",
       "10679         No info   4145  \n",
       "10680         No info   7229  \n",
       "10681         No info  12648  \n",
       "10682         No info  11753  \n",
       "\n",
       "[10683 rows x 11 columns]"
      ]
     },
     "execution_count": 130,
     "metadata": {},
     "output_type": "execute_result"
    }
   ],
   "source": [
    "flights = get_data('Data_Train')\n",
    "flights"
   ]
  },
  {
   "cell_type": "code",
   "execution_count": 131,
   "id": "8deddb98",
   "metadata": {},
   "outputs": [
    {
     "name": "stdout",
     "output_type": "stream",
     "text": [
      "<class 'pandas.core.frame.DataFrame'>\n",
      "RangeIndex: 10683 entries, 0 to 10682\n",
      "Data columns (total 11 columns):\n",
      " #   Column           Non-Null Count  Dtype \n",
      "---  ------           --------------  ----- \n",
      " 0   Airline          10683 non-null  object\n",
      " 1   Date_of_Journey  10683 non-null  object\n",
      " 2   Source           10683 non-null  object\n",
      " 3   Destination      10683 non-null  object\n",
      " 4   Route            10682 non-null  object\n",
      " 5   Dep_Time         10683 non-null  object\n",
      " 6   Arrival_Time     10683 non-null  object\n",
      " 7   Duration         10683 non-null  object\n",
      " 8   Total_Stops      10682 non-null  object\n",
      " 9   Additional_Info  10683 non-null  object\n",
      " 10  Price            10683 non-null  int64 \n",
      "dtypes: int64(1), object(10)\n",
      "memory usage: 918.2+ KB\n"
     ]
    }
   ],
   "source": [
    "flights.info()"
   ]
  },
  {
   "cell_type": "markdown",
   "id": "e1dc102b",
   "metadata": {},
   "source": [
    "- The dataset containes 10,683 rows and 11 features.\n",
    "- Columns 'Rout' and 'Total_Stops' has missing values.\n",
    "- There are some features wont be treated as datetime data type."
   ]
  },
  {
   "cell_type": "code",
   "execution_count": 132,
   "id": "4983c2b9",
   "metadata": {},
   "outputs": [
    {
     "data": {
      "text/plain": [
       "Airline            0\n",
       "Date_of_Journey    0\n",
       "Source             0\n",
       "Destination        0\n",
       "Route              1\n",
       "Dep_Time           0\n",
       "Arrival_Time       0\n",
       "Duration           0\n",
       "Total_Stops        1\n",
       "Additional_Info    0\n",
       "Price              0\n",
       "dtype: int64"
      ]
     },
     "execution_count": 132,
     "metadata": {},
     "output_type": "execute_result"
    }
   ],
   "source": [
    "flights.isnull().sum()"
   ]
  },
  {
   "cell_type": "markdown",
   "id": "8fefcc66",
   "metadata": {},
   "source": [
    "## 3. Preliminary Analysis"
   ]
  },
  {
   "cell_type": "markdown",
   "id": "ef8427e4",
   "metadata": {},
   "source": [
    "### 3.1 Check Data Types"
   ]
  },
  {
   "cell_type": "code",
   "execution_count": 133,
   "id": "0a0eb5dc",
   "metadata": {},
   "outputs": [
    {
     "data": {
      "text/html": [
       "<div>\n",
       "<style scoped>\n",
       "    .dataframe tbody tr th:only-of-type {\n",
       "        vertical-align: middle;\n",
       "    }\n",
       "\n",
       "    .dataframe tbody tr th {\n",
       "        vertical-align: top;\n",
       "    }\n",
       "\n",
       "    .dataframe thead th {\n",
       "        text-align: right;\n",
       "    }\n",
       "</style>\n",
       "<table border=\"1\" class=\"dataframe\">\n",
       "  <thead>\n",
       "    <tr style=\"text-align: right;\">\n",
       "      <th></th>\n",
       "      <th>Airline</th>\n",
       "      <th>Date_of_Journey</th>\n",
       "      <th>Source</th>\n",
       "      <th>Destination</th>\n",
       "      <th>Route</th>\n",
       "      <th>Dep_Time</th>\n",
       "      <th>Arrival_Time</th>\n",
       "      <th>Duration</th>\n",
       "      <th>Total_Stops</th>\n",
       "      <th>Additional_Info</th>\n",
       "      <th>Price</th>\n",
       "    </tr>\n",
       "  </thead>\n",
       "  <tbody>\n",
       "    <tr>\n",
       "      <th>0</th>\n",
       "      <td>IndiGo</td>\n",
       "      <td>24-03-2019</td>\n",
       "      <td>Banglore</td>\n",
       "      <td>New Delhi</td>\n",
       "      <td>BLR ? DEL</td>\n",
       "      <td>22:20</td>\n",
       "      <td>22-03-2024 01:10</td>\n",
       "      <td>2h 50m</td>\n",
       "      <td>non-stop</td>\n",
       "      <td>No info</td>\n",
       "      <td>3897</td>\n",
       "    </tr>\n",
       "    <tr>\n",
       "      <th>1</th>\n",
       "      <td>Air India</td>\n",
       "      <td>01-05-2019</td>\n",
       "      <td>Kolkata</td>\n",
       "      <td>Banglore</td>\n",
       "      <td>CCU ? IXR ? BBI ? BLR</td>\n",
       "      <td>05:50</td>\n",
       "      <td>13:15</td>\n",
       "      <td>7h 25m</td>\n",
       "      <td>2 stops</td>\n",
       "      <td>No info</td>\n",
       "      <td>7662</td>\n",
       "    </tr>\n",
       "    <tr>\n",
       "      <th>2</th>\n",
       "      <td>Jet Airways</td>\n",
       "      <td>09-06-2019</td>\n",
       "      <td>Delhi</td>\n",
       "      <td>Cochin</td>\n",
       "      <td>DEL ? LKO ? BOM ? COK</td>\n",
       "      <td>09:25</td>\n",
       "      <td>10-06-2024 04:25</td>\n",
       "      <td>19h</td>\n",
       "      <td>2 stops</td>\n",
       "      <td>No info</td>\n",
       "      <td>13882</td>\n",
       "    </tr>\n",
       "    <tr>\n",
       "      <th>3</th>\n",
       "      <td>IndiGo</td>\n",
       "      <td>12-05-2019</td>\n",
       "      <td>Kolkata</td>\n",
       "      <td>Banglore</td>\n",
       "      <td>CCU ? NAG ? BLR</td>\n",
       "      <td>18:05</td>\n",
       "      <td>23:30</td>\n",
       "      <td>5h 25m</td>\n",
       "      <td>1 stop</td>\n",
       "      <td>No info</td>\n",
       "      <td>6218</td>\n",
       "    </tr>\n",
       "    <tr>\n",
       "      <th>4</th>\n",
       "      <td>IndiGo</td>\n",
       "      <td>01-03-2019</td>\n",
       "      <td>Banglore</td>\n",
       "      <td>New Delhi</td>\n",
       "      <td>BLR ? NAG ? DEL</td>\n",
       "      <td>16:50</td>\n",
       "      <td>21:35</td>\n",
       "      <td>4h 45m</td>\n",
       "      <td>1 stop</td>\n",
       "      <td>No info</td>\n",
       "      <td>13302</td>\n",
       "    </tr>\n",
       "  </tbody>\n",
       "</table>\n",
       "</div>"
      ],
      "text/plain": [
       "       Airline Date_of_Journey    Source Destination                  Route  \\\n",
       "0       IndiGo      24-03-2019  Banglore   New Delhi              BLR ? DEL   \n",
       "1    Air India      01-05-2019   Kolkata    Banglore  CCU ? IXR ? BBI ? BLR   \n",
       "2  Jet Airways      09-06-2019     Delhi      Cochin  DEL ? LKO ? BOM ? COK   \n",
       "3       IndiGo      12-05-2019   Kolkata    Banglore        CCU ? NAG ? BLR   \n",
       "4       IndiGo      01-03-2019  Banglore   New Delhi        BLR ? NAG ? DEL   \n",
       "\n",
       "  Dep_Time      Arrival_Time Duration Total_Stops Additional_Info  Price  \n",
       "0    22:20  22-03-2024 01:10   2h 50m    non-stop         No info   3897  \n",
       "1    05:50             13:15   7h 25m     2 stops         No info   7662  \n",
       "2    09:25  10-06-2024 04:25      19h     2 stops         No info  13882  \n",
       "3    18:05             23:30   5h 25m      1 stop         No info   6218  \n",
       "4    16:50             21:35   4h 45m      1 stop         No info  13302  "
      ]
     },
     "execution_count": 133,
     "metadata": {},
     "output_type": "execute_result"
    }
   ],
   "source": [
    "flights.head()"
   ]
  },
  {
   "cell_type": "code",
   "execution_count": 134,
   "id": "a4e82ece",
   "metadata": {},
   "outputs": [
    {
     "data": {
      "text/plain": [
       "Airline            object\n",
       "Date_of_Journey    object\n",
       "Source             object\n",
       "Destination        object\n",
       "Route              object\n",
       "Dep_Time           object\n",
       "Arrival_Time       object\n",
       "Duration           object\n",
       "Total_Stops        object\n",
       "Additional_Info    object\n",
       "Price               int64\n",
       "dtype: object"
      ]
     },
     "execution_count": 134,
     "metadata": {},
     "output_type": "execute_result"
    }
   ],
   "source": [
    "flights.dtypes"
   ]
  },
  {
   "cell_type": "code",
   "execution_count": 135,
   "id": "744b0e9c",
   "metadata": {},
   "outputs": [
    {
     "data": {
      "text/plain": [
       "'12-03-2019'"
      ]
     },
     "execution_count": 135,
     "metadata": {},
     "output_type": "execute_result"
    }
   ],
   "source": [
    "value = flights.Date_of_Journey.iloc[6]\n",
    "value"
   ]
  },
  {
   "cell_type": "code",
   "execution_count": 136,
   "id": "22ef7511",
   "metadata": {},
   "outputs": [
    {
     "data": {
      "text/plain": [
       "'18:55'"
      ]
     },
     "execution_count": 136,
     "metadata": {},
     "output_type": "execute_result"
    }
   ],
   "source": [
    "value = flights.Dep_Time.iloc[6]\n",
    "value"
   ]
  },
  {
   "cell_type": "code",
   "execution_count": 137,
   "id": "4336eb62",
   "metadata": {},
   "outputs": [
    {
     "data": {
      "text/plain": [
       "'15h 30m'"
      ]
     },
     "execution_count": 137,
     "metadata": {},
     "output_type": "execute_result"
    }
   ],
   "source": [
    "value = flights.Duration.iloc[6]\n",
    "value"
   ]
  },
  {
   "cell_type": "markdown",
   "id": "add44afc",
   "metadata": {},
   "source": [
    "### 3.2 Check for Duplicates"
   ]
  },
  {
   "cell_type": "code",
   "execution_count": 138,
   "id": "4ba3f8e0",
   "metadata": {},
   "outputs": [
    {
     "data": {
      "text/plain": [
       "220"
      ]
     },
     "execution_count": 138,
     "metadata": {},
     "output_type": "execute_result"
    }
   ],
   "source": [
    "flights.duplicated().sum()"
   ]
  },
  {
   "cell_type": "code",
   "execution_count": 139,
   "id": "744e615a",
   "metadata": {},
   "outputs": [
    {
     "data": {
      "text/html": [
       "<div>\n",
       "<style scoped>\n",
       "    .dataframe tbody tr th:only-of-type {\n",
       "        vertical-align: middle;\n",
       "    }\n",
       "\n",
       "    .dataframe tbody tr th {\n",
       "        vertical-align: top;\n",
       "    }\n",
       "\n",
       "    .dataframe thead th {\n",
       "        text-align: right;\n",
       "    }\n",
       "</style>\n",
       "<table border=\"1\" class=\"dataframe\">\n",
       "  <thead>\n",
       "    <tr style=\"text-align: right;\">\n",
       "      <th></th>\n",
       "      <th>Airline</th>\n",
       "      <th>Date_of_Journey</th>\n",
       "      <th>Source</th>\n",
       "      <th>Destination</th>\n",
       "      <th>Route</th>\n",
       "      <th>Dep_Time</th>\n",
       "      <th>Arrival_Time</th>\n",
       "      <th>Duration</th>\n",
       "      <th>Total_Stops</th>\n",
       "      <th>Additional_Info</th>\n",
       "      <th>Price</th>\n",
       "    </tr>\n",
       "  </thead>\n",
       "  <tbody>\n",
       "    <tr>\n",
       "      <th>6321</th>\n",
       "      <td>Air India</td>\n",
       "      <td>01-03-2019</td>\n",
       "      <td>Banglore</td>\n",
       "      <td>New Delhi</td>\n",
       "      <td>BLR ? BOM ? AMD ? DEL</td>\n",
       "      <td>08:50</td>\n",
       "      <td>02-03-2024 23:55</td>\n",
       "      <td>39h 5m</td>\n",
       "      <td>2 stops</td>\n",
       "      <td>No info</td>\n",
       "      <td>17135</td>\n",
       "    </tr>\n",
       "    <tr>\n",
       "      <th>9848</th>\n",
       "      <td>Air India</td>\n",
       "      <td>01-03-2019</td>\n",
       "      <td>Banglore</td>\n",
       "      <td>New Delhi</td>\n",
       "      <td>BLR ? BOM ? AMD ? DEL</td>\n",
       "      <td>08:50</td>\n",
       "      <td>02-03-2024 23:55</td>\n",
       "      <td>39h 5m</td>\n",
       "      <td>2 stops</td>\n",
       "      <td>No info</td>\n",
       "      <td>17135</td>\n",
       "    </tr>\n",
       "    <tr>\n",
       "      <th>1495</th>\n",
       "      <td>Air India</td>\n",
       "      <td>01-04-2019</td>\n",
       "      <td>Kolkata</td>\n",
       "      <td>Banglore</td>\n",
       "      <td>CCU ? DEL ? COK ? BLR</td>\n",
       "      <td>10:00</td>\n",
       "      <td>02-04-2024 01:20</td>\n",
       "      <td>15h 20m</td>\n",
       "      <td>2 stops</td>\n",
       "      <td>No info</td>\n",
       "      <td>10408</td>\n",
       "    </tr>\n",
       "    <tr>\n",
       "      <th>9913</th>\n",
       "      <td>Air India</td>\n",
       "      <td>01-04-2019</td>\n",
       "      <td>Kolkata</td>\n",
       "      <td>Banglore</td>\n",
       "      <td>CCU ? DEL ? COK ? BLR</td>\n",
       "      <td>10:00</td>\n",
       "      <td>02-04-2024 01:20</td>\n",
       "      <td>15h 20m</td>\n",
       "      <td>2 stops</td>\n",
       "      <td>No info</td>\n",
       "      <td>10408</td>\n",
       "    </tr>\n",
       "    <tr>\n",
       "      <th>3598</th>\n",
       "      <td>Air India</td>\n",
       "      <td>01-05-2019</td>\n",
       "      <td>Kolkata</td>\n",
       "      <td>Banglore</td>\n",
       "      <td>CCU ? GAU ? DEL ? BLR</td>\n",
       "      <td>09:50</td>\n",
       "      <td>02-05-2024 08:55</td>\n",
       "      <td>23h 5m</td>\n",
       "      <td>2 stops</td>\n",
       "      <td>No info</td>\n",
       "      <td>13227</td>\n",
       "    </tr>\n",
       "    <tr>\n",
       "      <th>...</th>\n",
       "      <td>...</td>\n",
       "      <td>...</td>\n",
       "      <td>...</td>\n",
       "      <td>...</td>\n",
       "      <td>...</td>\n",
       "      <td>...</td>\n",
       "      <td>...</td>\n",
       "      <td>...</td>\n",
       "      <td>...</td>\n",
       "      <td>...</td>\n",
       "      <td>...</td>\n",
       "    </tr>\n",
       "    <tr>\n",
       "      <th>2692</th>\n",
       "      <td>SpiceJet</td>\n",
       "      <td>24-03-2019</td>\n",
       "      <td>Banglore</td>\n",
       "      <td>New Delhi</td>\n",
       "      <td>BLR ? DEL</td>\n",
       "      <td>05:45</td>\n",
       "      <td>08:35</td>\n",
       "      <td>2h 50m</td>\n",
       "      <td>non-stop</td>\n",
       "      <td>No check-in baggage included</td>\n",
       "      <td>4273</td>\n",
       "    </tr>\n",
       "    <tr>\n",
       "      <th>2870</th>\n",
       "      <td>SpiceJet</td>\n",
       "      <td>24-03-2019</td>\n",
       "      <td>Banglore</td>\n",
       "      <td>New Delhi</td>\n",
       "      <td>BLR ? DEL</td>\n",
       "      <td>05:45</td>\n",
       "      <td>08:35</td>\n",
       "      <td>2h 50m</td>\n",
       "      <td>non-stop</td>\n",
       "      <td>No check-in baggage included</td>\n",
       "      <td>4273</td>\n",
       "    </tr>\n",
       "    <tr>\n",
       "      <th>3711</th>\n",
       "      <td>SpiceJet</td>\n",
       "      <td>24-03-2019</td>\n",
       "      <td>Banglore</td>\n",
       "      <td>New Delhi</td>\n",
       "      <td>BLR ? DEL</td>\n",
       "      <td>20:30</td>\n",
       "      <td>23:20</td>\n",
       "      <td>2h 50m</td>\n",
       "      <td>non-stop</td>\n",
       "      <td>No check-in baggage included</td>\n",
       "      <td>3873</td>\n",
       "    </tr>\n",
       "    <tr>\n",
       "      <th>2634</th>\n",
       "      <td>Vistara</td>\n",
       "      <td>24-03-2019</td>\n",
       "      <td>Banglore</td>\n",
       "      <td>New Delhi</td>\n",
       "      <td>BLR ? DEL</td>\n",
       "      <td>11:30</td>\n",
       "      <td>14:10</td>\n",
       "      <td>2h 40m</td>\n",
       "      <td>non-stop</td>\n",
       "      <td>No info</td>\n",
       "      <td>5403</td>\n",
       "    </tr>\n",
       "    <tr>\n",
       "      <th>5470</th>\n",
       "      <td>Vistara</td>\n",
       "      <td>24-03-2019</td>\n",
       "      <td>Banglore</td>\n",
       "      <td>New Delhi</td>\n",
       "      <td>BLR ? DEL</td>\n",
       "      <td>11:30</td>\n",
       "      <td>14:10</td>\n",
       "      <td>2h 40m</td>\n",
       "      <td>non-stop</td>\n",
       "      <td>No info</td>\n",
       "      <td>5403</td>\n",
       "    </tr>\n",
       "  </tbody>\n",
       "</table>\n",
       "<p>415 rows × 11 columns</p>\n",
       "</div>"
      ],
      "text/plain": [
       "        Airline Date_of_Journey    Source Destination                  Route  \\\n",
       "6321  Air India      01-03-2019  Banglore   New Delhi  BLR ? BOM ? AMD ? DEL   \n",
       "9848  Air India      01-03-2019  Banglore   New Delhi  BLR ? BOM ? AMD ? DEL   \n",
       "1495  Air India      01-04-2019   Kolkata    Banglore  CCU ? DEL ? COK ? BLR   \n",
       "9913  Air India      01-04-2019   Kolkata    Banglore  CCU ? DEL ? COK ? BLR   \n",
       "3598  Air India      01-05-2019   Kolkata    Banglore  CCU ? GAU ? DEL ? BLR   \n",
       "...         ...             ...       ...         ...                    ...   \n",
       "2692   SpiceJet      24-03-2019  Banglore   New Delhi              BLR ? DEL   \n",
       "2870   SpiceJet      24-03-2019  Banglore   New Delhi              BLR ? DEL   \n",
       "3711   SpiceJet      24-03-2019  Banglore   New Delhi              BLR ? DEL   \n",
       "2634    Vistara      24-03-2019  Banglore   New Delhi              BLR ? DEL   \n",
       "5470    Vistara      24-03-2019  Banglore   New Delhi              BLR ? DEL   \n",
       "\n",
       "     Dep_Time      Arrival_Time Duration Total_Stops  \\\n",
       "6321    08:50  02-03-2024 23:55   39h 5m     2 stops   \n",
       "9848    08:50  02-03-2024 23:55   39h 5m     2 stops   \n",
       "1495    10:00  02-04-2024 01:20  15h 20m     2 stops   \n",
       "9913    10:00  02-04-2024 01:20  15h 20m     2 stops   \n",
       "3598    09:50  02-05-2024 08:55   23h 5m     2 stops   \n",
       "...       ...               ...      ...         ...   \n",
       "2692    05:45             08:35   2h 50m    non-stop   \n",
       "2870    05:45             08:35   2h 50m    non-stop   \n",
       "3711    20:30             23:20   2h 50m    non-stop   \n",
       "2634    11:30             14:10   2h 40m    non-stop   \n",
       "5470    11:30             14:10   2h 40m    non-stop   \n",
       "\n",
       "                   Additional_Info  Price  \n",
       "6321                       No info  17135  \n",
       "9848                       No info  17135  \n",
       "1495                       No info  10408  \n",
       "9913                       No info  10408  \n",
       "3598                       No info  13227  \n",
       "...                            ...    ...  \n",
       "2692  No check-in baggage included   4273  \n",
       "2870  No check-in baggage included   4273  \n",
       "3711  No check-in baggage included   3873  \n",
       "2634                       No info   5403  \n",
       "5470                       No info   5403  \n",
       "\n",
       "[415 rows x 11 columns]"
      ]
     },
     "execution_count": 139,
     "metadata": {},
     "output_type": "execute_result"
    }
   ],
   "source": [
    "# lets check the duplicate data by applying filter\n",
    "\n",
    "flights[flights.duplicated(keep=False) == True].sort_values(['Airline','Date_of_Journey','Source','Destination'])"
   ]
  },
  {
   "cell_type": "markdown",
   "id": "6ad2ca13",
   "metadata": {},
   "source": [
    "### 3.3 Observations"
   ]
  },
  {
   "cell_type": "markdown",
   "id": "b6d94207",
   "metadata": {},
   "source": [
    ">- The datatype of feature 'Date_of_Journey' should be datetime.\n",
    ">- Same we get stuff at feature 'Dep_Time','Arrival_time'.\n",
    ">- The type of 'duration' is mixed so we have to handle them.\n",
    ">- 'Total_Stops' is also mixed and we can convert them to int or float.\n",
    ">- There are 220 duplicatse this should be removed."
   ]
  },
  {
   "cell_type": "markdown",
   "id": "6f3fb723",
   "metadata": {},
   "source": [
    "## 4. Detailed Analysis"
   ]
  },
  {
   "cell_type": "markdown",
   "id": "62d2c25a",
   "metadata": {},
   "source": [
    "### Airline"
   ]
  },
  {
   "cell_type": "code",
   "execution_count": 140,
   "id": "8fca5180",
   "metadata": {},
   "outputs": [
    {
     "data": {
      "text/plain": [
       "0             IndiGo\n",
       "1          Air India\n",
       "2        Jet Airways\n",
       "3             IndiGo\n",
       "4             IndiGo\n",
       "            ...     \n",
       "10678       Air Asia\n",
       "10679      Air India\n",
       "10680    Jet Airways\n",
       "10681        Vistara\n",
       "10682      Air India\n",
       "Name: Airline, Length: 10683, dtype: object"
      ]
     },
     "execution_count": 140,
     "metadata": {},
     "output_type": "execute_result"
    }
   ],
   "source": [
    "flights.Airline"
   ]
  },
  {
   "cell_type": "code",
   "execution_count": 141,
   "id": "de688ca8",
   "metadata": {},
   "outputs": [
    {
     "data": {
      "text/plain": [
       "array(['IndiGo', 'Air India', 'Jet Airways', 'SpiceJet',\n",
       "       'Multiple carriers', 'GoAir', 'Vistara', 'Air Asia',\n",
       "       'Vistara Premium economy', 'Jet Airways Business',\n",
       "       'Multiple carriers Premium economy', 'Trujet'], dtype=object)"
      ]
     },
     "execution_count": 141,
     "metadata": {},
     "output_type": "execute_result"
    }
   ],
   "source": [
    "flights.Airline.unique()"
   ]
  },
  {
   "cell_type": "code",
   "execution_count": 142,
   "id": "e5c114e0",
   "metadata": {},
   "outputs": [
    {
     "data": {
      "text/plain": [
       "0             Indigo\n",
       "1          Air India\n",
       "2        Jet Airways\n",
       "3             Indigo\n",
       "4             Indigo\n",
       "            ...     \n",
       "10678       Air Asia\n",
       "10679      Air India\n",
       "10680    Jet Airways\n",
       "10681        Vistara\n",
       "10682      Air India\n",
       "Name: Airline, Length: 10683, dtype: object"
      ]
     },
     "execution_count": 142,
     "metadata": {},
     "output_type": "execute_result"
    }
   ],
   "source": [
    "# We are putting block of code inside bracket beacuse that will makes better to read.\n",
    "(\n",
    "    flights\n",
    "    .Airline\n",
    "    .str.replace(\" Premium economy\",\"\")\n",
    "    .str.replace(\" Business\",\"\")\n",
    "    .str.title()\n",
    ")"
   ]
  },
  {
   "cell_type": "markdown",
   "id": "7f42b124",
   "metadata": {},
   "source": [
    ">- Some of the entries has inconsisent values so we need to replace those values."
   ]
  },
  {
   "cell_type": "markdown",
   "id": "2cceec03",
   "metadata": {},
   "source": [
    "### Date Of Journey"
   ]
  },
  {
   "cell_type": "code",
   "execution_count": 143,
   "id": "3f9e0ef7",
   "metadata": {},
   "outputs": [
    {
     "data": {
      "text/plain": [
       "0        24-03-2019\n",
       "1        01-05-2019\n",
       "2        09-06-2019\n",
       "3        12-05-2019\n",
       "4        01-03-2019\n",
       "            ...    \n",
       "10678    09-04-2019\n",
       "10679    27-04-2019\n",
       "10680    27-04-2019\n",
       "10681    01-03-2019\n",
       "10682    09-05-2019\n",
       "Name: Date_of_Journey, Length: 10683, dtype: object"
      ]
     },
     "execution_count": 143,
     "metadata": {},
     "output_type": "execute_result"
    }
   ],
   "source": [
    "flights.Date_of_Journey"
   ]
  },
  {
   "cell_type": "code",
   "execution_count": 144,
   "id": "7257817d",
   "metadata": {},
   "outputs": [
    {
     "data": {
      "text/plain": [
       "0       2019-03-24\n",
       "1       2019-05-01\n",
       "2       2019-06-09\n",
       "3       2019-05-12\n",
       "4       2019-03-01\n",
       "           ...    \n",
       "10678   2019-04-09\n",
       "10679   2019-04-27\n",
       "10680   2019-04-27\n",
       "10681   2019-03-01\n",
       "10682   2019-05-09\n",
       "Name: Date_of_Journey, Length: 10683, dtype: datetime64[ns]"
      ]
     },
     "execution_count": 144,
     "metadata": {},
     "output_type": "execute_result"
    }
   ],
   "source": [
    "pd.to_datetime(flights.Date_of_Journey,dayfirst=True)"
   ]
  },
  {
   "cell_type": "markdown",
   "id": "c541390e",
   "metadata": {},
   "source": [
    "### Source "
   ]
  },
  {
   "cell_type": "code",
   "execution_count": 145,
   "id": "d1e6882e",
   "metadata": {},
   "outputs": [
    {
     "data": {
      "text/plain": [
       "array(['Banglore', 'Kolkata', 'Delhi', 'Chennai', 'Mumbai'], dtype=object)"
      ]
     },
     "execution_count": 145,
     "metadata": {},
     "output_type": "execute_result"
    }
   ],
   "source": [
    "flights.Source.unique()"
   ]
  },
  {
   "cell_type": "markdown",
   "id": "0b42cc01",
   "metadata": {},
   "source": [
    "### Destination"
   ]
  },
  {
   "cell_type": "code",
   "execution_count": 146,
   "id": "c84c58c0",
   "metadata": {},
   "outputs": [
    {
     "data": {
      "text/plain": [
       "array(['New Delhi', 'Banglore', 'Cochin', 'Kolkata', 'Delhi', 'Hyderabad'],\n",
       "      dtype=object)"
      ]
     },
     "execution_count": 146,
     "metadata": {},
     "output_type": "execute_result"
    }
   ],
   "source": [
    "flights.Destination.unique()"
   ]
  },
  {
   "cell_type": "markdown",
   "id": "a47f9dfd",
   "metadata": {},
   "source": [
    "### Departure time"
   ]
  },
  {
   "cell_type": "code",
   "execution_count": 147,
   "id": "df87c575",
   "metadata": {},
   "outputs": [
    {
     "data": {
      "text/plain": [
       "0        22:20\n",
       "1        05:50\n",
       "2        09:25\n",
       "3        18:05\n",
       "4        16:50\n",
       "         ...  \n",
       "10678    19:55\n",
       "10679    20:45\n",
       "10680    08:20\n",
       "10681    11:30\n",
       "10682    10:55\n",
       "Name: Dep_Time, Length: 10683, dtype: object"
      ]
     },
     "execution_count": 147,
     "metadata": {},
     "output_type": "execute_result"
    }
   ],
   "source": [
    "flights.Dep_Time"
   ]
  },
  {
   "cell_type": "code",
   "execution_count": 148,
   "id": "e050cf64",
   "metadata": {},
   "outputs": [
    {
     "data": {
      "text/plain": [
       "Series([], Name: Dep_Time, dtype: object)"
      ]
     },
     "execution_count": 148,
     "metadata": {},
     "output_type": "execute_result"
    }
   ],
   "source": [
    "(\n",
    "    flights\n",
    "    .Dep_Time\n",
    "    .loc[lambda ser: ser.str.contains(\"[^0-9:]\")]\n",
    ")"
   ]
  },
  {
   "cell_type": "code",
   "execution_count": 149,
   "id": "4581da9e",
   "metadata": {},
   "outputs": [
    {
     "data": {
      "text/plain": [
       "0        22:20:00\n",
       "1        05:50:00\n",
       "2        09:25:00\n",
       "3        18:05:00\n",
       "4        16:50:00\n",
       "           ...   \n",
       "10678    19:55:00\n",
       "10679    20:45:00\n",
       "10680    08:20:00\n",
       "10681    11:30:00\n",
       "10682    10:55:00\n",
       "Name: Dep_Time, Length: 10683, dtype: object"
      ]
     },
     "execution_count": 149,
     "metadata": {},
     "output_type": "execute_result"
    }
   ],
   "source": [
    "pd.to_datetime(flights.Dep_Time).dt.time"
   ]
  },
  {
   "cell_type": "markdown",
   "id": "76952ca0",
   "metadata": {},
   "source": [
    "### Arrival Time"
   ]
  },
  {
   "cell_type": "code",
   "execution_count": 150,
   "id": "1d0c5b1f",
   "metadata": {},
   "outputs": [
    {
     "data": {
      "text/plain": [
       "0        22-03-2024 01:10\n",
       "1                   13:15\n",
       "2        10-06-2024 04:25\n",
       "3                   23:30\n",
       "4                   21:35\n",
       "               ...       \n",
       "10678               22:25\n",
       "10679               23:20\n",
       "10680               11:20\n",
       "10681               14:10\n",
       "10682               19:15\n",
       "Name: Arrival_Time, Length: 10683, dtype: object"
      ]
     },
     "execution_count": 150,
     "metadata": {},
     "output_type": "execute_result"
    }
   ],
   "source": [
    "flights.Arrival_Time"
   ]
  },
  {
   "cell_type": "code",
   "execution_count": 157,
   "id": "c7737749",
   "metadata": {},
   "outputs": [
    {
     "data": {
      "text/plain": [
       "0        01:10\n",
       "2        04:25\n",
       "6        10:25\n",
       "7        05:05\n",
       "8        10:25\n",
       "         ...  \n",
       "10666    19:00\n",
       "10667    20:20\n",
       "10672    19:00\n",
       "10673    04:25\n",
       "10674    21:20\n",
       "Name: Arrival_Time, Length: 4335, dtype: object"
      ]
     },
     "execution_count": 157,
     "metadata": {},
     "output_type": "execute_result"
    }
   ],
   "source": [
    "(\n",
    "    flights\n",
    "    .Arrival_Time\n",
    "    .loc[lambda ser: ser.str.contains(\"[^0-9:]\")]\n",
    "    .str.split(\" \",n=0)\n",
    "    .str.get(1)\n",
    ")"
   ]
  },
  {
   "cell_type": "code",
   "execution_count": 161,
   "id": "bc2e034b",
   "metadata": {},
   "outputs": [
    {
     "data": {
      "text/plain": [
       "0        01:10\n",
       "1        13:15\n",
       "2        04:25\n",
       "3        23:30\n",
       "4        21:35\n",
       "         ...  \n",
       "10678    22:25\n",
       "10679    23:20\n",
       "10680    11:20\n",
       "10681    14:10\n",
       "10682    19:15\n",
       "Name: Arrival_Time, Length: 10683, dtype: object"
      ]
     },
     "execution_count": 161,
     "metadata": {},
     "output_type": "execute_result"
    }
   ],
   "source": [
    "(\n",
    "    flights\n",
    "    .Arrival_Time\n",
    "    .apply(lambda x: x.split(\" \")[1] if len(x.split(\" \")) > 1 else x)\n",
    ")"
   ]
  },
  {
   "cell_type": "markdown",
   "id": "b2632745",
   "metadata": {},
   "source": [
    "### Duration"
   ]
  },
  {
   "cell_type": "code",
   "execution_count": 169,
   "id": "2309a125",
   "metadata": {},
   "outputs": [
    {
     "data": {
      "text/plain": [
       "0        2h 50m\n",
       "1        7h 25m\n",
       "2           19h\n",
       "3        5h 25m\n",
       "4        4h 45m\n",
       "          ...  \n",
       "10678    2h 30m\n",
       "10679    2h 35m\n",
       "10680        3h\n",
       "10681    2h 40m\n",
       "10682    8h 20m\n",
       "Name: Duration, Length: 10683, dtype: object"
      ]
     },
     "execution_count": 169,
     "metadata": {},
     "output_type": "execute_result"
    }
   ],
   "source": [
    "flights.Duration"
   ]
  },
  {
   "cell_type": "code",
   "execution_count": 171,
   "id": "15f8b10f",
   "metadata": {},
   "outputs": [
    {
     "data": {
      "text/plain": [
       "array(['19h', '23h', '22h', '12h', '3h', '5h', '10h', '18h', '24h', '15h',\n",
       "       '16h', '8h', '14h', '20h', '13h', '11h', '9h', '27h', '26h', '4h',\n",
       "       '7h', '30h', '21h', '28h', '47h', '6h', '25h', '38h', '34h'],\n",
       "      dtype=object)"
      ]
     },
     "execution_count": 171,
     "metadata": {},
     "output_type": "execute_result"
    }
   ],
   "source": [
    "(\n",
    "    flights\n",
    "    .Duration\n",
    "    .loc[lambda ser: ~ser.str.contains(\"m\")]\n",
    "    .unique()\n",
    ")"
   ]
  },
  {
   "cell_type": "code",
   "execution_count": 173,
   "id": "7bb373cb",
   "metadata": {},
   "outputs": [
    {
     "data": {
      "text/plain": [
       "6474    5m\n",
       "Name: Duration, dtype: object"
      ]
     },
     "execution_count": 173,
     "metadata": {},
     "output_type": "execute_result"
    }
   ],
   "source": [
    "(\n",
    "    flights\n",
    "    .Duration\n",
    "    .loc[lambda ser: ~ser.str.contains(\"h\")]\n",
    ")"
   ]
  },
  {
   "cell_type": "code",
   "execution_count": 175,
   "id": "9db95e72",
   "metadata": {},
   "outputs": [
    {
     "data": {
      "text/html": [
       "<div>\n",
       "<style scoped>\n",
       "    .dataframe tbody tr th:only-of-type {\n",
       "        vertical-align: middle;\n",
       "    }\n",
       "\n",
       "    .dataframe tbody tr th {\n",
       "        vertical-align: top;\n",
       "    }\n",
       "\n",
       "    .dataframe thead th {\n",
       "        text-align: right;\n",
       "    }\n",
       "</style>\n",
       "<table border=\"1\" class=\"dataframe\">\n",
       "  <thead>\n",
       "    <tr style=\"text-align: right;\">\n",
       "      <th></th>\n",
       "      <th>Airline</th>\n",
       "      <th>Date_of_Journey</th>\n",
       "      <th>Source</th>\n",
       "      <th>Destination</th>\n",
       "      <th>Route</th>\n",
       "      <th>Dep_Time</th>\n",
       "      <th>Arrival_Time</th>\n",
       "      <th>Duration</th>\n",
       "      <th>Total_Stops</th>\n",
       "      <th>Additional_Info</th>\n",
       "      <th>Price</th>\n",
       "    </tr>\n",
       "  </thead>\n",
       "  <tbody>\n",
       "    <tr>\n",
       "      <th>6474</th>\n",
       "      <td>Air India</td>\n",
       "      <td>06-03-2019</td>\n",
       "      <td>Mumbai</td>\n",
       "      <td>Hyderabad</td>\n",
       "      <td>BOM ? GOI ? PNQ ? HYD</td>\n",
       "      <td>16:50</td>\n",
       "      <td>16:55</td>\n",
       "      <td>5m</td>\n",
       "      <td>2 stops</td>\n",
       "      <td>No info</td>\n",
       "      <td>17327</td>\n",
       "    </tr>\n",
       "  </tbody>\n",
       "</table>\n",
       "</div>"
      ],
      "text/plain": [
       "        Airline Date_of_Journey  Source Destination                  Route  \\\n",
       "6474  Air India      06-03-2019  Mumbai   Hyderabad  BOM ? GOI ? PNQ ? HYD   \n",
       "\n",
       "     Dep_Time Arrival_Time Duration Total_Stops Additional_Info  Price  \n",
       "6474    16:50        16:55       5m     2 stops         No info  17327  "
      ]
     },
     "execution_count": 175,
     "metadata": {},
     "output_type": "execute_result"
    }
   ],
   "source": [
    "flights.iloc[[6474]]"
   ]
  },
  {
   "cell_type": "markdown",
   "id": "279f2a4a",
   "metadata": {},
   "source": [
    ">- This observation indexed is clearly wrong so we can delete this row beacause as we know that there is no flight duration 5m"
   ]
  },
  {
   "cell_type": "code",
   "execution_count": 193,
   "id": "3ed9ab15",
   "metadata": {},
   "outputs": [
    {
     "data": {
      "text/plain": [
       "0         170\n",
       "1         445\n",
       "2        1140\n",
       "3         325\n",
       "4         285\n",
       "         ... \n",
       "10678     150\n",
       "10679     155\n",
       "10680     180\n",
       "10681     160\n",
       "10682     500\n",
       "Length: 10682, dtype: int64"
      ]
     },
     "execution_count": 193,
     "metadata": {},
     "output_type": "execute_result"
    }
   ],
   "source": [
    "(\n",
    "    flights\n",
    "    .Duration\n",
    "    .drop(index=6474)\n",
    "    .str.split(\" \", expand=True)\n",
    "    .set_axis(['hour','minute'], axis=1) # where used to give an columns names\n",
    "    .assign(\n",
    "        hour= lambda df_:(\n",
    "            df_\n",
    "            .hour\n",
    "            .str.replace(\"h\",\"\")\n",
    "            .astype(int)\n",
    "            .mul(60)\n",
    "        ),\n",
    "        minute= lambda df_:(\n",
    "            df_\n",
    "            .minute\n",
    "            .str.replace(\"m\",\"\")\n",
    "            .fillna(\"0\")\n",
    "            .astype(int)\n",
    "        )\n",
    "    )\n",
    "    .sum(axis=1)\n",
    ")"
   ]
  },
  {
   "cell_type": "code",
   "execution_count": 199,
   "id": "97c2371f",
   "metadata": {},
   "outputs": [
    {
     "data": {
      "text/html": [
       "<div>\n",
       "<style scoped>\n",
       "    .dataframe tbody tr th:only-of-type {\n",
       "        vertical-align: middle;\n",
       "    }\n",
       "\n",
       "    .dataframe tbody tr th {\n",
       "        vertical-align: top;\n",
       "    }\n",
       "\n",
       "    .dataframe thead th {\n",
       "        text-align: right;\n",
       "    }\n",
       "</style>\n",
       "<table border=\"1\" class=\"dataframe\">\n",
       "  <thead>\n",
       "    <tr style=\"text-align: right;\">\n",
       "      <th></th>\n",
       "      <th>duration_minutes</th>\n",
       "      <th>Duration</th>\n",
       "    </tr>\n",
       "  </thead>\n",
       "  <tbody>\n",
       "    <tr>\n",
       "      <th>0</th>\n",
       "      <td>170</td>\n",
       "      <td>2h 50m</td>\n",
       "    </tr>\n",
       "    <tr>\n",
       "      <th>1</th>\n",
       "      <td>445</td>\n",
       "      <td>7h 25m</td>\n",
       "    </tr>\n",
       "    <tr>\n",
       "      <th>2</th>\n",
       "      <td>1140</td>\n",
       "      <td>19h</td>\n",
       "    </tr>\n",
       "    <tr>\n",
       "      <th>3</th>\n",
       "      <td>325</td>\n",
       "      <td>5h 25m</td>\n",
       "    </tr>\n",
       "    <tr>\n",
       "      <th>4</th>\n",
       "      <td>285</td>\n",
       "      <td>4h 45m</td>\n",
       "    </tr>\n",
       "    <tr>\n",
       "      <th>...</th>\n",
       "      <td>...</td>\n",
       "      <td>...</td>\n",
       "    </tr>\n",
       "    <tr>\n",
       "      <th>10678</th>\n",
       "      <td>150</td>\n",
       "      <td>2h 30m</td>\n",
       "    </tr>\n",
       "    <tr>\n",
       "      <th>10679</th>\n",
       "      <td>155</td>\n",
       "      <td>2h 35m</td>\n",
       "    </tr>\n",
       "    <tr>\n",
       "      <th>10680</th>\n",
       "      <td>180</td>\n",
       "      <td>3h</td>\n",
       "    </tr>\n",
       "    <tr>\n",
       "      <th>10681</th>\n",
       "      <td>160</td>\n",
       "      <td>2h 40m</td>\n",
       "    </tr>\n",
       "    <tr>\n",
       "      <th>10682</th>\n",
       "      <td>500</td>\n",
       "      <td>8h 20m</td>\n",
       "    </tr>\n",
       "  </tbody>\n",
       "</table>\n",
       "<p>10682 rows × 2 columns</p>\n",
       "</div>"
      ],
      "text/plain": [
       "       duration_minutes Duration\n",
       "0                   170   2h 50m\n",
       "1                   445   7h 25m\n",
       "2                  1140      19h\n",
       "3                   325   5h 25m\n",
       "4                   285   4h 45m\n",
       "...                 ...      ...\n",
       "10678               150   2h 30m\n",
       "10679               155   2h 35m\n",
       "10680               180       3h\n",
       "10681               160   2h 40m\n",
       "10682               500   8h 20m\n",
       "\n",
       "[10682 rows x 2 columns]"
      ]
     },
     "execution_count": 199,
     "metadata": {},
     "output_type": "execute_result"
    }
   ],
   "source": [
    "(\n",
    "    flights\n",
    "    .Duration\n",
    "    .drop(index=6474)\n",
    "    .str.split(\" \", expand=True)\n",
    "    .set_axis(['hour','minute'], axis=1) # where used to give an columns names\n",
    "    .assign(\n",
    "        hour= lambda df_:(\n",
    "            df_\n",
    "            .hour\n",
    "            .str.replace(\"h\",\"\")\n",
    "            .astype(int)\n",
    "            .mul(60)\n",
    "        ),\n",
    "        minute= lambda df_:(\n",
    "            df_\n",
    "            .minute\n",
    "            .str.replace(\"m\",\"\")\n",
    "            .fillna(\"0\")\n",
    "            .astype(int)\n",
    "        )\n",
    "    )\n",
    "    .sum(axis=1)\n",
    "    .rename('duration_minutes')\n",
    "    .to_frame()    \n",
    "    .join(flights.Duration.drop(index=6474))\n",
    ")"
   ]
  },
  {
   "cell_type": "markdown",
   "id": "f18cdb2a",
   "metadata": {},
   "source": [
    "### TotalStops"
   ]
  },
  {
   "cell_type": "code",
   "execution_count": 211,
   "id": "594f2854",
   "metadata": {},
   "outputs": [
    {
     "data": {
      "text/plain": [
       "array(['non-stop', '2 stops', '1 stop', '3 stops', nan, '4 stops'],\n",
       "      dtype=object)"
      ]
     },
     "execution_count": 211,
     "metadata": {},
     "output_type": "execute_result"
    }
   ],
   "source": [
    "flights.Total_Stops.unique()"
   ]
  },
  {
   "cell_type": "code",
   "execution_count": 225,
   "id": "8011493d",
   "metadata": {},
   "outputs": [
    {
     "data": {
      "text/plain": [
       "0        0.0\n",
       "1        2.0\n",
       "2        2.0\n",
       "3        1.0\n",
       "4        1.0\n",
       "        ... \n",
       "10678    0.0\n",
       "10679    0.0\n",
       "10680    0.0\n",
       "10681    0.0\n",
       "10682    2.0\n",
       "Name: Total_Stops, Length: 10683, dtype: float64"
      ]
     },
     "execution_count": 225,
     "metadata": {},
     "output_type": "execute_result"
    }
   ],
   "source": [
    "(\n",
    "    flights\n",
    "    .Total_Stops\n",
    "    .replace(\"non-stop\",\"0\")\n",
    "    .str.replace(\" stops?\",\"\", regex =True) # This is an regular expression that ? helps t search for pattern stop or stops so that s is an optional\n",
    "    .pipe(lambda ser: pd.to_numeric(ser)) \n",
    ")"
   ]
  },
  {
   "cell_type": "markdown",
   "id": "b39563b8",
   "metadata": {},
   "source": [
    "### Addition Info"
   ]
  },
  {
   "cell_type": "code",
   "execution_count": 236,
   "id": "6a149123",
   "metadata": {},
   "outputs": [
    {
     "data": {
      "text/plain": [
       "array(['No info', 'In-flight meal not included',\n",
       "       'No check-in baggage included', '1 Short layover', 'No Info',\n",
       "       '1 Long layover', 'Change airports', 'Business class',\n",
       "       'Red-eye flight', '2 Long layover'], dtype=object)"
      ]
     },
     "execution_count": 236,
     "metadata": {},
     "output_type": "execute_result"
    }
   ],
   "source": [
    "flights.Additional_Info.unique()"
   ]
  },
  {
   "cell_type": "markdown",
   "id": "980df679",
   "metadata": {},
   "source": [
    "## 5.Cleaning Opertaions"
   ]
  },
  {
   "cell_type": "code",
   "execution_count": 205,
   "id": "cf761b65",
   "metadata": {},
   "outputs": [],
   "source": [
    "def convert_to_minutes(ser):\n",
    "    return(\n",
    "        ser\n",
    "        .str.split(\" \", expand=True)\n",
    "        .set_axis(['hour','minute'], axis=1) # where used to give an columns names\n",
    "        .assign(\n",
    "            hour= lambda df_:(\n",
    "                df_\n",
    "                .hour\n",
    "                .str.replace(\"h\",\"\")\n",
    "                .astype(int)\n",
    "                .mul(60)\n",
    "            ),\n",
    "            minute= lambda df_:(\n",
    "                df_\n",
    "                .minute\n",
    "                .str.replace(\"m\",\"\")\n",
    "                .fillna(\"0\")\n",
    "                .astype(int)\n",
    "            )\n",
    "        )\n",
    "        .sum(axis=1)\n",
    "    )"
   ]
  },
  {
   "cell_type": "code",
   "execution_count": 252,
   "id": "4984502b",
   "metadata": {},
   "outputs": [],
   "source": [
    "def clean_data(df):\n",
    "    return (\n",
    "        df\n",
    "        .drop(index=[6474])\n",
    "        .drop_duplicates()\n",
    "        .assign(**{\n",
    "            col: df[col].str.strip()\n",
    "            for col in df.select_dtypes(include='O').columns\n",
    "        })\n",
    "        .rename(columns=str.lower)\n",
    "        .assign(\n",
    "            airline=lambda df_: (\n",
    "                df_\n",
    "                .airline\n",
    "                .str.replace(\" Premium economy\", \"\")\n",
    "                .str.replace(\" Business\", \"\")\n",
    "                .str.title()\n",
    "            ),\n",
    "            date_of_journey=lambda df_: pd.to_datetime(df_.date_of_journey, dayfirst=True),\n",
    "            dep_time=lambda df_: pd.to_datetime(df_.dep_time).dt.time,\n",
    "            arrival_time=lambda df_: (\n",
    "                df_\n",
    "                .arrival_time\n",
    "                .apply(lambda x: x.split(\" \")[1] if len(x.split(\" \")) > 1 else x)\n",
    "            ),\n",
    "            duration= lambda df_: df_.duration.pipe(convert_to_minutes),\n",
    "            total_stops=lambda df_:(\n",
    "                df_\n",
    "                .total_stops\n",
    "                .replace(\"non-stop\",\"0\")\n",
    "                .str.replace(\" stops?\",\"\", regex =True) # This is an regular expression that ? helps t search for pattern stop or stops so that s is an optional\n",
    "                .pipe(lambda ser: pd.to_numeric(ser))\n",
    "            ),\n",
    "            additional_info=lambda df_: df_.additional_info.replace(\"No info\",\"No Info\")\n",
    "        )\n",
    "        .drop(columns='route')\n",
    "    )"
   ]
  },
  {
   "cell_type": "markdown",
   "id": "d1521b73",
   "metadata": {},
   "source": [
    ">- pipe where used in pandas to apply fun over series or dataframe"
   ]
  },
  {
   "cell_type": "code",
   "execution_count": 253,
   "id": "7367f57d",
   "metadata": {},
   "outputs": [
    {
     "data": {
      "text/html": [
       "<div>\n",
       "<style scoped>\n",
       "    .dataframe tbody tr th:only-of-type {\n",
       "        vertical-align: middle;\n",
       "    }\n",
       "\n",
       "    .dataframe tbody tr th {\n",
       "        vertical-align: top;\n",
       "    }\n",
       "\n",
       "    .dataframe thead th {\n",
       "        text-align: right;\n",
       "    }\n",
       "</style>\n",
       "<table border=\"1\" class=\"dataframe\">\n",
       "  <thead>\n",
       "    <tr style=\"text-align: right;\">\n",
       "      <th></th>\n",
       "      <th>airline</th>\n",
       "      <th>date_of_journey</th>\n",
       "      <th>source</th>\n",
       "      <th>destination</th>\n",
       "      <th>dep_time</th>\n",
       "      <th>arrival_time</th>\n",
       "      <th>duration</th>\n",
       "      <th>total_stops</th>\n",
       "      <th>additional_info</th>\n",
       "      <th>price</th>\n",
       "    </tr>\n",
       "  </thead>\n",
       "  <tbody>\n",
       "    <tr>\n",
       "      <th>0</th>\n",
       "      <td>Indigo</td>\n",
       "      <td>2019-03-24</td>\n",
       "      <td>Banglore</td>\n",
       "      <td>New Delhi</td>\n",
       "      <td>22:20:00</td>\n",
       "      <td>01:10</td>\n",
       "      <td>170</td>\n",
       "      <td>0.0</td>\n",
       "      <td>No Info</td>\n",
       "      <td>3897</td>\n",
       "    </tr>\n",
       "    <tr>\n",
       "      <th>1</th>\n",
       "      <td>Air India</td>\n",
       "      <td>2019-05-01</td>\n",
       "      <td>Kolkata</td>\n",
       "      <td>Banglore</td>\n",
       "      <td>05:50:00</td>\n",
       "      <td>13:15</td>\n",
       "      <td>445</td>\n",
       "      <td>2.0</td>\n",
       "      <td>No Info</td>\n",
       "      <td>7662</td>\n",
       "    </tr>\n",
       "    <tr>\n",
       "      <th>2</th>\n",
       "      <td>Jet Airways</td>\n",
       "      <td>2019-06-09</td>\n",
       "      <td>Delhi</td>\n",
       "      <td>Cochin</td>\n",
       "      <td>09:25:00</td>\n",
       "      <td>04:25</td>\n",
       "      <td>1140</td>\n",
       "      <td>2.0</td>\n",
       "      <td>No Info</td>\n",
       "      <td>13882</td>\n",
       "    </tr>\n",
       "    <tr>\n",
       "      <th>3</th>\n",
       "      <td>Indigo</td>\n",
       "      <td>2019-05-12</td>\n",
       "      <td>Kolkata</td>\n",
       "      <td>Banglore</td>\n",
       "      <td>18:05:00</td>\n",
       "      <td>23:30</td>\n",
       "      <td>325</td>\n",
       "      <td>1.0</td>\n",
       "      <td>No Info</td>\n",
       "      <td>6218</td>\n",
       "    </tr>\n",
       "    <tr>\n",
       "      <th>4</th>\n",
       "      <td>Indigo</td>\n",
       "      <td>2019-03-01</td>\n",
       "      <td>Banglore</td>\n",
       "      <td>New Delhi</td>\n",
       "      <td>16:50:00</td>\n",
       "      <td>21:35</td>\n",
       "      <td>285</td>\n",
       "      <td>1.0</td>\n",
       "      <td>No Info</td>\n",
       "      <td>13302</td>\n",
       "    </tr>\n",
       "    <tr>\n",
       "      <th>...</th>\n",
       "      <td>...</td>\n",
       "      <td>...</td>\n",
       "      <td>...</td>\n",
       "      <td>...</td>\n",
       "      <td>...</td>\n",
       "      <td>...</td>\n",
       "      <td>...</td>\n",
       "      <td>...</td>\n",
       "      <td>...</td>\n",
       "      <td>...</td>\n",
       "    </tr>\n",
       "    <tr>\n",
       "      <th>10678</th>\n",
       "      <td>Air Asia</td>\n",
       "      <td>2019-04-09</td>\n",
       "      <td>Kolkata</td>\n",
       "      <td>Banglore</td>\n",
       "      <td>19:55:00</td>\n",
       "      <td>22:25</td>\n",
       "      <td>150</td>\n",
       "      <td>0.0</td>\n",
       "      <td>No Info</td>\n",
       "      <td>4107</td>\n",
       "    </tr>\n",
       "    <tr>\n",
       "      <th>10679</th>\n",
       "      <td>Air India</td>\n",
       "      <td>2019-04-27</td>\n",
       "      <td>Kolkata</td>\n",
       "      <td>Banglore</td>\n",
       "      <td>20:45:00</td>\n",
       "      <td>23:20</td>\n",
       "      <td>155</td>\n",
       "      <td>0.0</td>\n",
       "      <td>No Info</td>\n",
       "      <td>4145</td>\n",
       "    </tr>\n",
       "    <tr>\n",
       "      <th>10680</th>\n",
       "      <td>Jet Airways</td>\n",
       "      <td>2019-04-27</td>\n",
       "      <td>Banglore</td>\n",
       "      <td>Delhi</td>\n",
       "      <td>08:20:00</td>\n",
       "      <td>11:20</td>\n",
       "      <td>180</td>\n",
       "      <td>0.0</td>\n",
       "      <td>No Info</td>\n",
       "      <td>7229</td>\n",
       "    </tr>\n",
       "    <tr>\n",
       "      <th>10681</th>\n",
       "      <td>Vistara</td>\n",
       "      <td>2019-03-01</td>\n",
       "      <td>Banglore</td>\n",
       "      <td>New Delhi</td>\n",
       "      <td>11:30:00</td>\n",
       "      <td>14:10</td>\n",
       "      <td>160</td>\n",
       "      <td>0.0</td>\n",
       "      <td>No Info</td>\n",
       "      <td>12648</td>\n",
       "    </tr>\n",
       "    <tr>\n",
       "      <th>10682</th>\n",
       "      <td>Air India</td>\n",
       "      <td>2019-05-09</td>\n",
       "      <td>Delhi</td>\n",
       "      <td>Cochin</td>\n",
       "      <td>10:55:00</td>\n",
       "      <td>19:15</td>\n",
       "      <td>500</td>\n",
       "      <td>2.0</td>\n",
       "      <td>No Info</td>\n",
       "      <td>11753</td>\n",
       "    </tr>\n",
       "  </tbody>\n",
       "</table>\n",
       "<p>10462 rows × 10 columns</p>\n",
       "</div>"
      ],
      "text/plain": [
       "           airline date_of_journey    source destination  dep_time  \\\n",
       "0           Indigo      2019-03-24  Banglore   New Delhi  22:20:00   \n",
       "1        Air India      2019-05-01   Kolkata    Banglore  05:50:00   \n",
       "2      Jet Airways      2019-06-09     Delhi      Cochin  09:25:00   \n",
       "3           Indigo      2019-05-12   Kolkata    Banglore  18:05:00   \n",
       "4           Indigo      2019-03-01  Banglore   New Delhi  16:50:00   \n",
       "...            ...             ...       ...         ...       ...   \n",
       "10678     Air Asia      2019-04-09   Kolkata    Banglore  19:55:00   \n",
       "10679    Air India      2019-04-27   Kolkata    Banglore  20:45:00   \n",
       "10680  Jet Airways      2019-04-27  Banglore       Delhi  08:20:00   \n",
       "10681      Vistara      2019-03-01  Banglore   New Delhi  11:30:00   \n",
       "10682    Air India      2019-05-09     Delhi      Cochin  10:55:00   \n",
       "\n",
       "      arrival_time  duration  total_stops additional_info  price  \n",
       "0            01:10       170          0.0         No Info   3897  \n",
       "1            13:15       445          2.0         No Info   7662  \n",
       "2            04:25      1140          2.0         No Info  13882  \n",
       "3            23:30       325          1.0         No Info   6218  \n",
       "4            21:35       285          1.0         No Info  13302  \n",
       "...            ...       ...          ...             ...    ...  \n",
       "10678        22:25       150          0.0         No Info   4107  \n",
       "10679        23:20       155          0.0         No Info   4145  \n",
       "10680        11:20       180          0.0         No Info   7229  \n",
       "10681        14:10       160          0.0         No Info  12648  \n",
       "10682        19:15       500          2.0         No Info  11753  \n",
       "\n",
       "[10462 rows x 10 columns]"
      ]
     },
     "execution_count": 253,
     "metadata": {},
     "output_type": "execute_result"
    }
   ],
   "source": [
    "flights_cleaned = clean_data(flights)\n",
    "flights_cleaned"
   ]
  },
  {
   "cell_type": "markdown",
   "id": "5e94ed79",
   "metadata": {},
   "source": [
    "## 6. Split the Data"
   ]
  },
  {
   "cell_type": "code",
   "execution_count": 254,
   "id": "bf2d2a4e",
   "metadata": {},
   "outputs": [
    {
     "data": {
      "text/html": [
       "<div>\n",
       "<style scoped>\n",
       "    .dataframe tbody tr th:only-of-type {\n",
       "        vertical-align: middle;\n",
       "    }\n",
       "\n",
       "    .dataframe tbody tr th {\n",
       "        vertical-align: top;\n",
       "    }\n",
       "\n",
       "    .dataframe thead th {\n",
       "        text-align: right;\n",
       "    }\n",
       "</style>\n",
       "<table border=\"1\" class=\"dataframe\">\n",
       "  <thead>\n",
       "    <tr style=\"text-align: right;\">\n",
       "      <th></th>\n",
       "      <th>airline</th>\n",
       "      <th>date_of_journey</th>\n",
       "      <th>source</th>\n",
       "      <th>destination</th>\n",
       "      <th>dep_time</th>\n",
       "      <th>arrival_time</th>\n",
       "      <th>duration</th>\n",
       "      <th>total_stops</th>\n",
       "      <th>additional_info</th>\n",
       "      <th>price</th>\n",
       "    </tr>\n",
       "  </thead>\n",
       "  <tbody>\n",
       "    <tr>\n",
       "      <th>2054</th>\n",
       "      <td>Air India</td>\n",
       "      <td>2019-06-06</td>\n",
       "      <td>Mumbai</td>\n",
       "      <td>Hyderabad</td>\n",
       "      <td>06:20:00</td>\n",
       "      <td>07:40</td>\n",
       "      <td>80</td>\n",
       "      <td>0.0</td>\n",
       "      <td>No Info</td>\n",
       "      <td>3100</td>\n",
       "    </tr>\n",
       "    <tr>\n",
       "      <th>7758</th>\n",
       "      <td>Air India</td>\n",
       "      <td>2019-05-15</td>\n",
       "      <td>Kolkata</td>\n",
       "      <td>Banglore</td>\n",
       "      <td>09:50:00</td>\n",
       "      <td>23:15</td>\n",
       "      <td>805</td>\n",
       "      <td>2.0</td>\n",
       "      <td>No Info</td>\n",
       "      <td>14960</td>\n",
       "    </tr>\n",
       "    <tr>\n",
       "      <th>10327</th>\n",
       "      <td>Spicejet</td>\n",
       "      <td>2019-04-12</td>\n",
       "      <td>Kolkata</td>\n",
       "      <td>Banglore</td>\n",
       "      <td>06:55:00</td>\n",
       "      <td>09:30</td>\n",
       "      <td>155</td>\n",
       "      <td>0.0</td>\n",
       "      <td>No check-in baggage included</td>\n",
       "      <td>3841</td>\n",
       "    </tr>\n",
       "    <tr>\n",
       "      <th>5081</th>\n",
       "      <td>Jet Airways</td>\n",
       "      <td>2019-06-12</td>\n",
       "      <td>Kolkata</td>\n",
       "      <td>Banglore</td>\n",
       "      <td>06:30:00</td>\n",
       "      <td>19:50</td>\n",
       "      <td>800</td>\n",
       "      <td>1.0</td>\n",
       "      <td>No Info</td>\n",
       "      <td>13626</td>\n",
       "    </tr>\n",
       "    <tr>\n",
       "      <th>1180</th>\n",
       "      <td>Jet Airways</td>\n",
       "      <td>2019-06-09</td>\n",
       "      <td>Delhi</td>\n",
       "      <td>Cochin</td>\n",
       "      <td>06:45:00</td>\n",
       "      <td>04:25</td>\n",
       "      <td>1300</td>\n",
       "      <td>2.0</td>\n",
       "      <td>No Info</td>\n",
       "      <td>13376</td>\n",
       "    </tr>\n",
       "    <tr>\n",
       "      <th>...</th>\n",
       "      <td>...</td>\n",
       "      <td>...</td>\n",
       "      <td>...</td>\n",
       "      <td>...</td>\n",
       "      <td>...</td>\n",
       "      <td>...</td>\n",
       "      <td>...</td>\n",
       "      <td>...</td>\n",
       "      <td>...</td>\n",
       "      <td>...</td>\n",
       "    </tr>\n",
       "    <tr>\n",
       "      <th>3758</th>\n",
       "      <td>Jet Airways</td>\n",
       "      <td>2019-05-01</td>\n",
       "      <td>Mumbai</td>\n",
       "      <td>Hyderabad</td>\n",
       "      <td>02:55:00</td>\n",
       "      <td>04:20</td>\n",
       "      <td>85</td>\n",
       "      <td>0.0</td>\n",
       "      <td>In-flight meal not included</td>\n",
       "      <td>3210</td>\n",
       "    </tr>\n",
       "    <tr>\n",
       "      <th>4319</th>\n",
       "      <td>Indigo</td>\n",
       "      <td>2019-03-09</td>\n",
       "      <td>Chennai</td>\n",
       "      <td>Kolkata</td>\n",
       "      <td>05:15:00</td>\n",
       "      <td>07:35</td>\n",
       "      <td>140</td>\n",
       "      <td>0.0</td>\n",
       "      <td>No Info</td>\n",
       "      <td>6482</td>\n",
       "    </tr>\n",
       "    <tr>\n",
       "      <th>6743</th>\n",
       "      <td>Air India</td>\n",
       "      <td>2019-03-27</td>\n",
       "      <td>Delhi</td>\n",
       "      <td>Cochin</td>\n",
       "      <td>06:10:00</td>\n",
       "      <td>08:15</td>\n",
       "      <td>1565</td>\n",
       "      <td>1.0</td>\n",
       "      <td>No Info</td>\n",
       "      <td>6681</td>\n",
       "    </tr>\n",
       "    <tr>\n",
       "      <th>6823</th>\n",
       "      <td>Jet Airways</td>\n",
       "      <td>2019-03-06</td>\n",
       "      <td>Banglore</td>\n",
       "      <td>New Delhi</td>\n",
       "      <td>05:45:00</td>\n",
       "      <td>19:10</td>\n",
       "      <td>805</td>\n",
       "      <td>1.0</td>\n",
       "      <td>No Info</td>\n",
       "      <td>16736</td>\n",
       "    </tr>\n",
       "    <tr>\n",
       "      <th>10582</th>\n",
       "      <td>Jet Airways</td>\n",
       "      <td>2019-05-06</td>\n",
       "      <td>Kolkata</td>\n",
       "      <td>Banglore</td>\n",
       "      <td>14:05:00</td>\n",
       "      <td>20:45</td>\n",
       "      <td>400</td>\n",
       "      <td>1.0</td>\n",
       "      <td>In-flight meal not included</td>\n",
       "      <td>9663</td>\n",
       "    </tr>\n",
       "  </tbody>\n",
       "</table>\n",
       "<p>1000 rows × 10 columns</p>\n",
       "</div>"
      ],
      "text/plain": [
       "           airline date_of_journey    source destination  dep_time  \\\n",
       "2054     Air India      2019-06-06    Mumbai   Hyderabad  06:20:00   \n",
       "7758     Air India      2019-05-15   Kolkata    Banglore  09:50:00   \n",
       "10327     Spicejet      2019-04-12   Kolkata    Banglore  06:55:00   \n",
       "5081   Jet Airways      2019-06-12   Kolkata    Banglore  06:30:00   \n",
       "1180   Jet Airways      2019-06-09     Delhi      Cochin  06:45:00   \n",
       "...            ...             ...       ...         ...       ...   \n",
       "3758   Jet Airways      2019-05-01    Mumbai   Hyderabad  02:55:00   \n",
       "4319        Indigo      2019-03-09   Chennai     Kolkata  05:15:00   \n",
       "6743     Air India      2019-03-27     Delhi      Cochin  06:10:00   \n",
       "6823   Jet Airways      2019-03-06  Banglore   New Delhi  05:45:00   \n",
       "10582  Jet Airways      2019-05-06   Kolkata    Banglore  14:05:00   \n",
       "\n",
       "      arrival_time  duration  total_stops               additional_info  price  \n",
       "2054         07:40        80          0.0                       No Info   3100  \n",
       "7758         23:15       805          2.0                       No Info  14960  \n",
       "10327        09:30       155          0.0  No check-in baggage included   3841  \n",
       "5081         19:50       800          1.0                       No Info  13626  \n",
       "1180         04:25      1300          2.0                       No Info  13376  \n",
       "...            ...       ...          ...                           ...    ...  \n",
       "3758         04:20        85          0.0   In-flight meal not included   3210  \n",
       "4319         07:35       140          0.0                       No Info   6482  \n",
       "6743         08:15      1565          1.0                       No Info   6681  \n",
       "6823         19:10       805          1.0                       No Info  16736  \n",
       "10582        20:45       400          1.0   In-flight meal not included   9663  \n",
       "\n",
       "[1000 rows x 10 columns]"
      ]
     },
     "execution_count": 254,
     "metadata": {},
     "output_type": "execute_result"
    }
   ],
   "source": [
    "flights_final = flights_cleaned.sample(1000)\n",
    "flights_final"
   ]
  },
  {
   "cell_type": "code",
   "execution_count": 255,
   "id": "5e0e52aa",
   "metadata": {},
   "outputs": [],
   "source": [
    "X = flights_final.drop(columns=\"price\")\n",
    "y = flights_final.price.copy()"
   ]
  },
  {
   "cell_type": "code",
   "execution_count": 256,
   "id": "47c7d584",
   "metadata": {},
   "outputs": [],
   "source": [
    "X_,X_test,y_,y_test = train_test_split(X,y,test_size=0.2,random_state=42)\n",
    "X_train,X_val,y_train,y_val = train_test_split(X_,y_,test_size=0.2,random_state=42)"
   ]
  },
  {
   "cell_type": "code",
   "execution_count": 257,
   "id": "9e76d5b9",
   "metadata": {},
   "outputs": [
    {
     "name": "stdout",
     "output_type": "stream",
     "text": [
      "(640, 9) (640,)\n",
      "(160, 9) (160,)\n",
      "(200, 9) (200,)\n"
     ]
    }
   ],
   "source": [
    "print(X_train.shape, y_train.shape)\n",
    "print(X_val.shape, y_val.shape)\n",
    "print(X_test.shape, y_test.shape)"
   ]
  },
  {
   "cell_type": "markdown",
   "id": "3895ba89",
   "metadata": {},
   "source": [
    "## 7. Export the Subsets"
   ]
  },
  {
   "cell_type": "code",
   "execution_count": 258,
   "id": "436c913a",
   "metadata": {},
   "outputs": [],
   "source": [
    "def export_subset(X, y, name):\n",
    "    file_name = f\"{name}.csv\"\n",
    "    file_path = os.path.join(Project_Dir, Data_Dir, file_name)\n",
    "    \n",
    "    X.join(y).to_csv(file_path, index=False)\n",
    "    \n",
    "    return pd.read_csv(file_path).head()"
   ]
  },
  {
   "cell_type": "code",
   "execution_count": 259,
   "id": "c0eb30af",
   "metadata": {},
   "outputs": [
    {
     "data": {
      "text/html": [
       "<div>\n",
       "<style scoped>\n",
       "    .dataframe tbody tr th:only-of-type {\n",
       "        vertical-align: middle;\n",
       "    }\n",
       "\n",
       "    .dataframe tbody tr th {\n",
       "        vertical-align: top;\n",
       "    }\n",
       "\n",
       "    .dataframe thead th {\n",
       "        text-align: right;\n",
       "    }\n",
       "</style>\n",
       "<table border=\"1\" class=\"dataframe\">\n",
       "  <thead>\n",
       "    <tr style=\"text-align: right;\">\n",
       "      <th></th>\n",
       "      <th>airline</th>\n",
       "      <th>date_of_journey</th>\n",
       "      <th>source</th>\n",
       "      <th>destination</th>\n",
       "      <th>dep_time</th>\n",
       "      <th>arrival_time</th>\n",
       "      <th>duration</th>\n",
       "      <th>total_stops</th>\n",
       "      <th>additional_info</th>\n",
       "      <th>price</th>\n",
       "    </tr>\n",
       "  </thead>\n",
       "  <tbody>\n",
       "    <tr>\n",
       "      <th>0</th>\n",
       "      <td>Indigo</td>\n",
       "      <td>2019-06-06</td>\n",
       "      <td>Delhi</td>\n",
       "      <td>Cochin</td>\n",
       "      <td>14:20:00</td>\n",
       "      <td>22:30</td>\n",
       "      <td>490</td>\n",
       "      <td>1.0</td>\n",
       "      <td>No Info</td>\n",
       "      <td>6938</td>\n",
       "    </tr>\n",
       "    <tr>\n",
       "      <th>1</th>\n",
       "      <td>Multiple Carriers</td>\n",
       "      <td>2019-06-15</td>\n",
       "      <td>Delhi</td>\n",
       "      <td>Cochin</td>\n",
       "      <td>11:30:00</td>\n",
       "      <td>19:15</td>\n",
       "      <td>465</td>\n",
       "      <td>1.0</td>\n",
       "      <td>No Info</td>\n",
       "      <td>16108</td>\n",
       "    </tr>\n",
       "    <tr>\n",
       "      <th>2</th>\n",
       "      <td>Jet Airways</td>\n",
       "      <td>2019-05-12</td>\n",
       "      <td>Kolkata</td>\n",
       "      <td>Banglore</td>\n",
       "      <td>17:00:00</td>\n",
       "      <td>22:05</td>\n",
       "      <td>1745</td>\n",
       "      <td>1.0</td>\n",
       "      <td>No Info</td>\n",
       "      <td>13067</td>\n",
       "    </tr>\n",
       "    <tr>\n",
       "      <th>3</th>\n",
       "      <td>Air India</td>\n",
       "      <td>2019-05-09</td>\n",
       "      <td>Delhi</td>\n",
       "      <td>Cochin</td>\n",
       "      <td>14:25:00</td>\n",
       "      <td>19:15</td>\n",
       "      <td>1730</td>\n",
       "      <td>2.0</td>\n",
       "      <td>No Info</td>\n",
       "      <td>13591</td>\n",
       "    </tr>\n",
       "    <tr>\n",
       "      <th>4</th>\n",
       "      <td>Air India</td>\n",
       "      <td>2019-03-06</td>\n",
       "      <td>Mumbai</td>\n",
       "      <td>Hyderabad</td>\n",
       "      <td>12:45:00</td>\n",
       "      <td>19:25</td>\n",
       "      <td>1840</td>\n",
       "      <td>2.0</td>\n",
       "      <td>No Info</td>\n",
       "      <td>13253</td>\n",
       "    </tr>\n",
       "  </tbody>\n",
       "</table>\n",
       "</div>"
      ],
      "text/plain": [
       "             airline date_of_journey   source destination  dep_time  \\\n",
       "0             Indigo      2019-06-06    Delhi      Cochin  14:20:00   \n",
       "1  Multiple Carriers      2019-06-15    Delhi      Cochin  11:30:00   \n",
       "2        Jet Airways      2019-05-12  Kolkata    Banglore  17:00:00   \n",
       "3          Air India      2019-05-09    Delhi      Cochin  14:25:00   \n",
       "4          Air India      2019-03-06   Mumbai   Hyderabad  12:45:00   \n",
       "\n",
       "  arrival_time  duration  total_stops additional_info  price  \n",
       "0        22:30       490          1.0         No Info   6938  \n",
       "1        19:15       465          1.0         No Info  16108  \n",
       "2        22:05      1745          1.0         No Info  13067  \n",
       "3        19:15      1730          2.0         No Info  13591  \n",
       "4        19:25      1840          2.0         No Info  13253  "
      ]
     },
     "execution_count": 259,
     "metadata": {},
     "output_type": "execute_result"
    }
   ],
   "source": [
    "export_subset(X_train, y_train, 'train')"
   ]
  },
  {
   "cell_type": "code",
   "execution_count": 260,
   "id": "d8bba27e",
   "metadata": {},
   "outputs": [
    {
     "data": {
      "text/html": [
       "<div>\n",
       "<style scoped>\n",
       "    .dataframe tbody tr th:only-of-type {\n",
       "        vertical-align: middle;\n",
       "    }\n",
       "\n",
       "    .dataframe tbody tr th {\n",
       "        vertical-align: top;\n",
       "    }\n",
       "\n",
       "    .dataframe thead th {\n",
       "        text-align: right;\n",
       "    }\n",
       "</style>\n",
       "<table border=\"1\" class=\"dataframe\">\n",
       "  <thead>\n",
       "    <tr style=\"text-align: right;\">\n",
       "      <th></th>\n",
       "      <th>airline</th>\n",
       "      <th>date_of_journey</th>\n",
       "      <th>source</th>\n",
       "      <th>destination</th>\n",
       "      <th>dep_time</th>\n",
       "      <th>arrival_time</th>\n",
       "      <th>duration</th>\n",
       "      <th>total_stops</th>\n",
       "      <th>additional_info</th>\n",
       "      <th>price</th>\n",
       "    </tr>\n",
       "  </thead>\n",
       "  <tbody>\n",
       "    <tr>\n",
       "      <th>0</th>\n",
       "      <td>Jet Airways</td>\n",
       "      <td>2019-06-09</td>\n",
       "      <td>Kolkata</td>\n",
       "      <td>Banglore</td>\n",
       "      <td>06:30:00</td>\n",
       "      <td>04:40</td>\n",
       "      <td>1330</td>\n",
       "      <td>1.0</td>\n",
       "      <td>In-flight meal not included</td>\n",
       "      <td>9663</td>\n",
       "    </tr>\n",
       "    <tr>\n",
       "      <th>1</th>\n",
       "      <td>Jet Airways</td>\n",
       "      <td>2019-04-09</td>\n",
       "      <td>Banglore</td>\n",
       "      <td>Delhi</td>\n",
       "      <td>15:50:00</td>\n",
       "      <td>18:45</td>\n",
       "      <td>175</td>\n",
       "      <td>0.0</td>\n",
       "      <td>No Info</td>\n",
       "      <td>7229</td>\n",
       "    </tr>\n",
       "    <tr>\n",
       "      <th>2</th>\n",
       "      <td>Jet Airways</td>\n",
       "      <td>2019-05-27</td>\n",
       "      <td>Delhi</td>\n",
       "      <td>Cochin</td>\n",
       "      <td>05:30:00</td>\n",
       "      <td>12:35</td>\n",
       "      <td>425</td>\n",
       "      <td>2.0</td>\n",
       "      <td>In-flight meal not included</td>\n",
       "      <td>15544</td>\n",
       "    </tr>\n",
       "    <tr>\n",
       "      <th>3</th>\n",
       "      <td>Jet Airways</td>\n",
       "      <td>2019-03-03</td>\n",
       "      <td>Delhi</td>\n",
       "      <td>Cochin</td>\n",
       "      <td>16:00:00</td>\n",
       "      <td>18:50</td>\n",
       "      <td>1610</td>\n",
       "      <td>1.0</td>\n",
       "      <td>No Info</td>\n",
       "      <td>17234</td>\n",
       "    </tr>\n",
       "    <tr>\n",
       "      <th>4</th>\n",
       "      <td>Indigo</td>\n",
       "      <td>2019-06-27</td>\n",
       "      <td>Delhi</td>\n",
       "      <td>Cochin</td>\n",
       "      <td>21:50:00</td>\n",
       "      <td>03:35</td>\n",
       "      <td>345</td>\n",
       "      <td>1.0</td>\n",
       "      <td>No Info</td>\n",
       "      <td>5775</td>\n",
       "    </tr>\n",
       "  </tbody>\n",
       "</table>\n",
       "</div>"
      ],
      "text/plain": [
       "       airline date_of_journey    source destination  dep_time arrival_time  \\\n",
       "0  Jet Airways      2019-06-09   Kolkata    Banglore  06:30:00        04:40   \n",
       "1  Jet Airways      2019-04-09  Banglore       Delhi  15:50:00        18:45   \n",
       "2  Jet Airways      2019-05-27     Delhi      Cochin  05:30:00        12:35   \n",
       "3  Jet Airways      2019-03-03     Delhi      Cochin  16:00:00        18:50   \n",
       "4       Indigo      2019-06-27     Delhi      Cochin  21:50:00        03:35   \n",
       "\n",
       "   duration  total_stops              additional_info  price  \n",
       "0      1330          1.0  In-flight meal not included   9663  \n",
       "1       175          0.0                      No Info   7229  \n",
       "2       425          2.0  In-flight meal not included  15544  \n",
       "3      1610          1.0                      No Info  17234  \n",
       "4       345          1.0                      No Info   5775  "
      ]
     },
     "execution_count": 260,
     "metadata": {},
     "output_type": "execute_result"
    }
   ],
   "source": [
    "export_subset(X_test, y_test , 'test')"
   ]
  },
  {
   "cell_type": "code",
   "execution_count": 261,
   "id": "7727e260",
   "metadata": {},
   "outputs": [
    {
     "data": {
      "text/html": [
       "<div>\n",
       "<style scoped>\n",
       "    .dataframe tbody tr th:only-of-type {\n",
       "        vertical-align: middle;\n",
       "    }\n",
       "\n",
       "    .dataframe tbody tr th {\n",
       "        vertical-align: top;\n",
       "    }\n",
       "\n",
       "    .dataframe thead th {\n",
       "        text-align: right;\n",
       "    }\n",
       "</style>\n",
       "<table border=\"1\" class=\"dataframe\">\n",
       "  <thead>\n",
       "    <tr style=\"text-align: right;\">\n",
       "      <th></th>\n",
       "      <th>airline</th>\n",
       "      <th>date_of_journey</th>\n",
       "      <th>source</th>\n",
       "      <th>destination</th>\n",
       "      <th>dep_time</th>\n",
       "      <th>arrival_time</th>\n",
       "      <th>duration</th>\n",
       "      <th>total_stops</th>\n",
       "      <th>additional_info</th>\n",
       "      <th>price</th>\n",
       "    </tr>\n",
       "  </thead>\n",
       "  <tbody>\n",
       "    <tr>\n",
       "      <th>0</th>\n",
       "      <td>Jet Airways</td>\n",
       "      <td>2019-05-09</td>\n",
       "      <td>Delhi</td>\n",
       "      <td>Cochin</td>\n",
       "      <td>18:15:00</td>\n",
       "      <td>12:35</td>\n",
       "      <td>1100</td>\n",
       "      <td>1.0</td>\n",
       "      <td>In-flight meal not included</td>\n",
       "      <td>12373</td>\n",
       "    </tr>\n",
       "    <tr>\n",
       "      <th>1</th>\n",
       "      <td>Jet Airways</td>\n",
       "      <td>2019-05-03</td>\n",
       "      <td>Mumbai</td>\n",
       "      <td>Hyderabad</td>\n",
       "      <td>07:05:00</td>\n",
       "      <td>08:30</td>\n",
       "      <td>85</td>\n",
       "      <td>0.0</td>\n",
       "      <td>In-flight meal not included</td>\n",
       "      <td>4995</td>\n",
       "    </tr>\n",
       "    <tr>\n",
       "      <th>2</th>\n",
       "      <td>Jet Airways</td>\n",
       "      <td>2019-05-18</td>\n",
       "      <td>Delhi</td>\n",
       "      <td>Cochin</td>\n",
       "      <td>02:15:00</td>\n",
       "      <td>04:25</td>\n",
       "      <td>1570</td>\n",
       "      <td>1.0</td>\n",
       "      <td>In-flight meal not included</td>\n",
       "      <td>12373</td>\n",
       "    </tr>\n",
       "    <tr>\n",
       "      <th>3</th>\n",
       "      <td>Indigo</td>\n",
       "      <td>2019-05-15</td>\n",
       "      <td>Chennai</td>\n",
       "      <td>Kolkata</td>\n",
       "      <td>22:05:00</td>\n",
       "      <td>00:25</td>\n",
       "      <td>140</td>\n",
       "      <td>0.0</td>\n",
       "      <td>No Info</td>\n",
       "      <td>5277</td>\n",
       "    </tr>\n",
       "    <tr>\n",
       "      <th>4</th>\n",
       "      <td>Multiple Carriers</td>\n",
       "      <td>2019-05-15</td>\n",
       "      <td>Delhi</td>\n",
       "      <td>Cochin</td>\n",
       "      <td>14:00:00</td>\n",
       "      <td>01:30</td>\n",
       "      <td>690</td>\n",
       "      <td>1.0</td>\n",
       "      <td>No Info</td>\n",
       "      <td>13727</td>\n",
       "    </tr>\n",
       "  </tbody>\n",
       "</table>\n",
       "</div>"
      ],
      "text/plain": [
       "             airline date_of_journey   source destination  dep_time  \\\n",
       "0        Jet Airways      2019-05-09    Delhi      Cochin  18:15:00   \n",
       "1        Jet Airways      2019-05-03   Mumbai   Hyderabad  07:05:00   \n",
       "2        Jet Airways      2019-05-18    Delhi      Cochin  02:15:00   \n",
       "3             Indigo      2019-05-15  Chennai     Kolkata  22:05:00   \n",
       "4  Multiple Carriers      2019-05-15    Delhi      Cochin  14:00:00   \n",
       "\n",
       "  arrival_time  duration  total_stops              additional_info  price  \n",
       "0        12:35      1100          1.0  In-flight meal not included  12373  \n",
       "1        08:30        85          0.0  In-flight meal not included   4995  \n",
       "2        04:25      1570          1.0  In-flight meal not included  12373  \n",
       "3        00:25       140          0.0                      No Info   5277  \n",
       "4        01:30       690          1.0                      No Info  13727  "
      ]
     },
     "execution_count": 261,
     "metadata": {},
     "output_type": "execute_result"
    }
   ],
   "source": [
    "export_subset(X_val, y_val , 'validation')"
   ]
  }
 ],
 "metadata": {
  "kernelspec": {
   "display_name": "Python 3 (ipykernel)",
   "language": "python",
   "name": "python3"
  },
  "language_info": {
   "codemirror_mode": {
    "name": "ipython",
    "version": 3
   },
   "file_extension": ".py",
   "mimetype": "text/x-python",
   "name": "python",
   "nbconvert_exporter": "python",
   "pygments_lexer": "ipython3",
   "version": "3.11.5"
  }
 },
 "nbformat": 4,
 "nbformat_minor": 5
}
